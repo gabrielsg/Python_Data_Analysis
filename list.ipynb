{
 "cells": [
  {
   "cell_type": "code",
   "execution_count": 42,
   "metadata": {},
   "outputs": [
    {
     "data": {
      "text/plain": [
       "['Nathan', 'Gareth', 'Trevor']"
      ]
     },
     "execution_count": 42,
     "metadata": {},
     "output_type": "execute_result"
    }
   ],
   "source": [
    "nephews = ['Nathan', 'Gareth', 'Trevor']\n",
    "nephews"
   ]
  },
  {
   "cell_type": "code",
   "execution_count": 43,
   "metadata": {},
   "outputs": [
    {
     "data": {
      "text/plain": [
       "'Nathan'"
      ]
     },
     "execution_count": 43,
     "metadata": {},
     "output_type": "execute_result"
    }
   ],
   "source": [
    "nephews[0]"
   ]
  },
  {
   "cell_type": "code",
   "execution_count": 44,
   "metadata": {},
   "outputs": [
    {
     "data": {
      "text/plain": [
       "3"
      ]
     },
     "execution_count": 44,
     "metadata": {},
     "output_type": "execute_result"
    }
   ],
   "source": [
    "len(nephews)"
   ]
  },
  {
   "cell_type": "code",
   "execution_count": 45,
   "metadata": {},
   "outputs": [],
   "source": [
    "for i in range(3):\n",
    "    nephews[i] = nephews[i] + ' Duck'"
   ]
  },
  {
   "cell_type": "code",
   "execution_count": 46,
   "metadata": {},
   "outputs": [
    {
     "name": "stdout",
     "output_type": "stream",
     "text": [
      "['Nathan Duck', 'Gareth Duck', 'Trevor Duck']\n"
     ]
    }
   ],
   "source": [
    "print(nephews)"
   ]
  },
  {
   "cell_type": "code",
   "execution_count": 47,
   "metadata": {},
   "outputs": [
    {
     "data": {
      "text/plain": [
       "[1, [2, 3, 4], 'hello']"
      ]
     },
     "execution_count": 47,
     "metadata": {},
     "output_type": "execute_result"
    }
   ],
   "source": [
    "mixed = [1, [2,3,4], 'hello']\n",
    "mixed"
   ]
  },
  {
   "cell_type": "code",
   "execution_count": 48,
   "metadata": {},
   "outputs": [],
   "source": [
    "nephews.append('Mark Duck') #add a single element to the list"
   ]
  },
  {
   "cell_type": "code",
   "execution_count": 49,
   "metadata": {},
   "outputs": [
    {
     "data": {
      "text/plain": [
       "['Nathan Duck', 'Gareth Duck', 'Trevor Duck', 'Mark Duck']"
      ]
     },
     "execution_count": 49,
     "metadata": {},
     "output_type": "execute_result"
    }
   ],
   "source": [
    "nephews"
   ]
  },
  {
   "cell_type": "markdown",
   "metadata": {},
   "source": [
    "#### use append or + to add more than one element to the list"
   ]
  },
  {
   "cell_type": "code",
   "execution_count": 50,
   "metadata": {},
   "outputs": [],
   "source": [
    "nephews.extend(['Damien Duck', 'Yasmin Duck'])\n",
    "ducks = nephews + ['Gabriel Duck', 'Mary Duck']"
   ]
  },
  {
   "cell_type": "code",
   "execution_count": 51,
   "metadata": {},
   "outputs": [
    {
     "name": "stdout",
     "output_type": "stream",
     "text": [
      "['Nathan Duck', 'Gareth Duck', 'Trevor Duck', 'Mark Duck', 'Damien Duck', 'Yasmin Duck', 'Gabriel Duck', 'Mary Duck']\n"
     ]
    }
   ],
   "source": [
    "print(ducks)"
   ]
  },
  {
   "cell_type": "code",
   "execution_count": 52,
   "metadata": {},
   "outputs": [
    {
     "name": "stdout",
     "output_type": "stream",
     "text": [
      "['Nathan Duck', 'Gareth Duck', 'Trevor Duck', 'Mark Duck', 'Damien Duck', 'Yasmin Duck']\n"
     ]
    }
   ],
   "source": [
    "print(nephews)"
   ]
  },
  {
   "cell_type": "code",
   "execution_count": 53,
   "metadata": {},
   "outputs": [
    {
     "name": "stdout",
     "output_type": "stream",
     "text": [
      "['Nathan Duck', 'Scrooge Duck', 'Gareth Duck', 'Trevor Duck', 'Mark Duck', 'Damien Duck', 'Yasmin Duck', 'Gabriel Duck', 'Mary Duck']\n"
     ]
    }
   ],
   "source": [
    "ducks.insert(1, 'Scrooge Duck') # first arguement is position in list to insert new element\n",
    "print(ducks)"
   ]
  },
  {
   "cell_type": "code",
   "execution_count": 54,
   "metadata": {},
   "outputs": [
    {
     "name": "stdout",
     "output_type": "stream",
     "text": [
      "['Nathan Duck', 'Scrooge Duck', 'Gareth Duck', 'Trevor Duck', 'Mark Duck', 'Damien Duck', 'Yasmin Duck', 'Mary Duck']\n"
     ]
    }
   ],
   "source": [
    "ducks.remove('Gabriel Duck')\n",
    "print(ducks)"
   ]
  },
  {
   "cell_type": "code",
   "execution_count": 56,
   "metadata": {},
   "outputs": [
    {
     "name": "stdout",
     "output_type": "stream",
     "text": [
      "['Damien Duck', 'Gareth Duck', 'Mark Duck', 'Mary Duck', 'Nathan Duck', 'Scrooge Duck', 'Trevor Duck', 'Yasmin Duck']\n"
     ]
    }
   ],
   "source": [
    "ducks.sort() #lexicograhical sort; inplace\n",
    "print(ducks)"
   ]
  },
  {
   "cell_type": "code",
   "execution_count": 57,
   "metadata": {},
   "outputs": [],
   "source": [
    "squares = [0,1,4,9,16,25]"
   ]
  },
  {
   "cell_type": "code",
   "execution_count": 58,
   "metadata": {},
   "outputs": [
    {
     "data": {
      "text/plain": [
       "[0, 1]"
      ]
     },
     "execution_count": 58,
     "metadata": {},
     "output_type": "execute_result"
    }
   ],
   "source": [
    "squares[0:2] #slice; element upto but not including 2nd index; difference between 2 indices will give the length of the slice"
   ]
  },
  {
   "cell_type": "code",
   "execution_count": 59,
   "metadata": {},
   "outputs": [
    {
     "data": {
      "text/plain": [
       "[1, 4, 9, 16]"
      ]
     },
     "execution_count": 59,
     "metadata": {},
     "output_type": "execute_result"
    }
   ],
   "source": [
    "squares[1:5]"
   ]
  },
  {
   "cell_type": "code",
   "execution_count": null,
   "metadata": {},
   "outputs": [],
   "source": []
  }
 ],
 "metadata": {
  "kernelspec": {
   "display_name": "Python 3",
   "language": "python",
   "name": "python3"
  },
  "language_info": {
   "codemirror_mode": {
    "name": "ipython",
    "version": 3
   },
   "file_extension": ".py",
   "mimetype": "text/x-python",
   "name": "python",
   "nbconvert_exporter": "python",
   "pygments_lexer": "ipython3",
   "version": "3.6.3"
  }
 },
 "nbformat": 4,
 "nbformat_minor": 2
}
